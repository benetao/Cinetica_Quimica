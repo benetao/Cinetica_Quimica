version https://git-lfs.github.com/spec/v1
oid sha256:2b1b122040665203844d3b624bc6363052069da0debaeb01781d89ea455cfebf
size 1530410
