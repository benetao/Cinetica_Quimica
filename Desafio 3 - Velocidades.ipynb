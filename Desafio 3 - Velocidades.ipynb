version https://git-lfs.github.com/spec/v1
oid sha256:b26d0a21f0f63fa4a356f8bedc2a8502fef81ce795a464e9bf5a4e025f8f063b
size 1684632
