{
 "cells": [
  {
   "cell_type": "code",
   "execution_count": 24,
   "id": "0dbe3486-693b-492a-9d85-4b9bafa621bf",
   "metadata": {},
   "outputs": [],
   "source": [
    "import numpy as np\n",
    "import matplotlib.pyplot as plt\n",
    "from matplotlib.animation import FuncAnimation\n",
    "\n",
    "# Constantes\n",
    "r_bohr = 5.29177e-11  # Raio de Bohr em metros\n",
    "m_H = 1.67e-27  # Massa do núcleo de hidrogênio em kg\n",
    "\n",
    "# Propriedades das esferas\n",
    "R = r_bohr  # Raio das esferas (raio de Bohr)\n",
    "m = m_H  # Massa das esferas (massa do núcleo de hidrogênio)\n",
    "\n",
    "# Parâmetros da simulação\n",
    "tempo_total = 10  # Tempo total da simulação em segundos\n",
    "dt = 0.05  # Intervalo de tempo em segundos\n",
    "n_iteracoes = int(tempo_total / dt) # Número de iterações\n",
    "\n",
    "# Condições iniciais\n",
    "\n",
    "vx0_1 = 0\n",
    "vy0_1 = 0\n",
    "vx0_2 = -10*R\n",
    "vy0_2 = -10*R\n",
    "px0_1 = 0\n",
    "py0_1 = 0\n",
    "px0_2 = 40*R\n",
    "py0_2 = 40*R\n",
    "\n",
    "velocidade_inicial1 = np.array([vx0_1, vy0_1])  # Posição inicial das esferas\n",
    "velocidade_inicial2 = np.array([vx0_2, vy0_2])  # Posição inicial das esferas\n",
    "\n",
    "posicao_inicial1 = np.array([px0_1, py0_1])  # Velocidade inicial das esferas\n",
    "posicao_inicial2 = np.array([px0_2, py0_2])  # Velocidade inicial das esferas"
   ]
  },
  {
   "cell_type": "code",
   "execution_count": 25,
   "id": "d67883a6-50cd-4098-baa7-8b94c21bc5de",
   "metadata": {},
   "outputs": [],
   "source": [
    "def nova_posicao_velocidade(x, v, dt):\n",
    "    # Derivadas em t\n",
    "    k1 = v * dt\n",
    "    m1 = np.zeros_like(v)  # Não consideraremos acelerações aqui\n",
    "\n",
    "    # Derivadas em t + dt/2\n",
    "    k2 = (v + 0.5 * m1) * dt\n",
    "    m2 = np.zeros_like(v)  # Não consideraremos acelerações aqui\n",
    "\n",
    "    # Derivadas em t + dt\n",
    "    k3 = (v + m2) * dt\n",
    "    m3 = np.zeros_like(v)  # Não consideraremos acelerações aqui\n",
    "\n",
    "    # Atualização da posição e da velocidade usando o método de Simpson\n",
    "    nova_posicao = x + k1 + 4 * k2 + k3\n",
    "    nova_velocidade = v + (m1 + 4 * m2 + m3) / 6\n",
    "\n",
    "    return nova_posicao, nova_velocidade"
   ]
  },
  {
   "cell_type": "code",
   "execution_count": 26,
   "id": "2cf87184-637a-4a7d-bfc0-8df5fdedec6d",
   "metadata": {},
   "outputs": [],
   "source": [
    "# Atualização da posição e da velocidade com colisões nas paredes\n",
    "def posicao_velocidade_colisao_parede(x, v, dt):\n",
    "    nova_posicao, nova_velocidade = nova_posicao_velocidade(x, v, dt)\n",
    "\n",
    "    # Lógica para colisões com as paredes da caixa\n",
    "    for i in range(2):\n",
    "        for j in range(2):\n",
    "            if nova_posicao[i, j] < -50 * R or nova_posicao[i, j] > 50 * R:\n",
    "                nova_velocidade[i, j] = -nova_velocidade[i, j]\n",
    "\n",
    "    return nova_posicao, nova_velocidade"
   ]
  },
  {
   "cell_type": "code",
   "execution_count": 27,
   "id": "4ae42bcb-9749-43a2-99c2-cdf9f9ff62cd",
   "metadata": {},
   "outputs": [
    {
     "data": {
      "image/png": "[encoded data removed]",
      "text/plain": [
       "<Figure size 576x720 with 2 Axes>"
      ]
     },
     "metadata": {
      "needs_background": "light"
     },
     "output_type": "display_data"
    }
   ],
   "source": [
    "# Inicialização de arrays para armazenar os resultados\n",
    "posicoes = np.zeros((n_iteracoes, 2, 2))\n",
    "velocidades = np.zeros((n_iteracoes, 2, 2))\n",
    "\n",
    "# Condições iniciais\n",
    "posicoes[0] = np.array([posicao_inicial1, posicao_inicial2])\n",
    "velocidades[0] = np.array([velocidade_inicial1, velocidade_inicial2])\n",
    "\n",
    "# Simulação\n",
    "for step in range(1, n_iteracoes):\n",
    "    posicoes[step], velocidades[step] = posicao_velocidade_colisao_parede(\n",
    "        posicoes[step - 1], velocidades[step - 1], dt\n",
    "    )\n",
    "\n",
    "    # Detecção e tratamento de colisões\n",
    "    distance = np.linalg.norm(posicoes[step, 0] - posicoes[step, 1])\n",
    "    if distance <= 2 * R:  # Colisão ocorreu\n",
    "        # Calcular novas velocidades após a colisão (conservação do momento)\n",
    "        v1_f = velocidades[step, 0] - 2 * m / (m + m) * np.dot(velocidades[step, 0] - velocidades[step, 1], posicoes[step, 0] - posicoes[step, 1]) / np.linalg.norm(posicoes[step, 0] - posicoes[step, 1]) ** 2 * (posicoes[step, 0] - posicoes[step, 1])\n",
    "        v2_f = velocidades[step, 1] - 2 * m / (m + m) * np.dot(velocidades[step, 1] - velocidades[step, 0], posicoes[step, 1] - posicoes[step, 0]) / np.linalg.norm(posicoes[step, 1] - posicoes[step, 0]) ** 2 * (posicoes[step, 1] - posicoes[step, 0])\n",
    "        \n",
    "        # Atualizar as velocidades após a colisão\n",
    "        velocidades[step, 0] = v1_f\n",
    "        velocidades[step, 1] = v2_f\n",
    "\n",
    "# Visualização dos gráficos da posição e da velocidade\n",
    "fig, (ax1, ax2) = plt.subplots(2, 1, figsize=(8, 10))\n",
    "\n",
    "ax1.scatter(posicoes[:, 0, 0], posicoes[:, 0, 1], label=\"Esfera 1\")\n",
    "ax1.scatter(posicoes[:, 1, 0], posicoes[:, 1, 1], label=\"Esfera 2\")\n",
    "ax1.set_xlabel(\"Posição x (m)\")\n",
    "ax1.set_ylabel(\"Posição y (m)\")\n",
    "ax1.legend()\n",
    "\n",
    "ax2.scatter(np.arange(n_iteracoes) * dt, velocidades[:, 0, 0], label=\"Esfera 1\")\n",
    "ax2.scatter(np.arange(n_iteracoes) * dt, velocidades[:, 1, 0], label=\"Esfera 2\")\n",
    "ax2.set_xlabel(\"Tempo (s)\")\n",
    "ax2.set_ylabel(\"Velocidade x (m/s)\")\n",
    "ax2.legend()\n",
    "\n",
    "plt.tight_layout()\n",
    "plt.show()"
   ]
  },
  {
   "cell_type": "code",
   "execution_count": 28,
   "id": "e417278c-5398-4f19-a1ae-03a2e0f5024d",
   "metadata": {},
   "outputs": [
    {
     "name": "stderr",
     "output_type": "stream",
     "text": [
      "MovieWriter imagemagick unavailable; using Pillow instead.\n"
     ]
    },
    {
     "name": "stdout",
     "output_type": "stream",
     "text": [
      "GIF criado com sucesso: collision_simulation.gif\n"
     ]
    }
   ],
   "source": [
    "# Função para criar a animação\n",
    "def animate_positions(i):\n",
    "    ax.clear()\n",
    "    ax.scatter(posicoes[i, 0, 0], posicoes[i, 0, 1], c='blue', label=\"Esfera 1\")\n",
    "    ax.scatter(posicoes[i, 1, 0], posicoes[i, 1, 1], c='red', label=\"Esfera 2\")\n",
    "    ax.set_xlim(-50 * R, 50 * R)\n",
    "    ax.set_ylim(-50 * R, 50 * R)\n",
    "    ax.set_xlabel(\"Posição x (m)\")\n",
    "    ax.set_ylabel(\"Posição y (m)\")\n",
    "    ax.set_title(f\"Tempo = {i * dt:.2f} segundos\")\n",
    "    ax.legend()\n",
    "\n",
    "# Criação da animação em formato de GIF\n",
    "fig, ax = plt.subplots(figsize=(8, 8))\n",
    "ani = FuncAnimation(fig, animate_positions, frames=n_iteracoes, interval=100)\n",
    "plt.close()\n",
    "\n",
    "# Salvando o GIF\n",
    "gif_filename = \"collision_simulation.gif\"\n",
    "ani.save(gif_filename, writer=\"imagemagick\")\n",
    "print(\"GIF criado com sucesso:\", gif_filename)"
   ]
  },
  {
   "cell_type": "code",
   "execution_count": null,
   "id": "822de8bd-771c-42eb-9e18-43bdd5b6ce4b",
   "metadata": {},
   "outputs": [],
   "source": []
  },
  {
   "cell_type": "code",
   "execution_count": null,
   "id": "36dd72c3-e591-432c-9bed-30c55458e5ed",
   "metadata": {},
   "outputs": [],
   "source": []
  }
 ],
 "metadata": {
  "kernelspec": {
   "display_name": "ilumpy",
   "language": "python",
   "name": "ilumpy"
  },
  "language_info": {
   "codemirror_mode": {
    "name": "ipython",
    "version": 3
   },
   "file_extension": ".py",
   "mimetype": "text/x-python",
   "name": "python",
   "nbconvert_exporter": "python",
   "pygments_lexer": "ipython3",
   "version": "3.9.7"
  }
 },
 "nbformat": 4,
 "nbformat_minor": 5
}
