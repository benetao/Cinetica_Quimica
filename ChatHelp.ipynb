{
 "cells": [
  {
   "cell_type": "code",
   "execution_count": 43,
   "id": "219e4f05-8a0e-4403-8889-74fca8c36d9b",
   "metadata": {},
   "outputs": [],
   "source": [
    "import numpy as np\n",
    "import matplotlib.pyplot as plt\n",
    "from matplotlib.animation import FuncAnimation\n",
    "\n",
    "# Constantes\n",
    "r_bohr = 5.29177e-11  # Raio de Bohr em metros\n",
    "m_hydrogen = 1.67e-27  # Massa do núcleo de hidrogênio em kg\n",
    "h_bar = 1.0545718e-34  # Constante de Planck reduzida em J s"
   ]
  },
  {
   "cell_type": "code",
   "execution_count": 44,
   "id": "efd72b46-76df-4afb-81cd-bac1180b60ec",
   "metadata": {},
   "outputs": [],
   "source": [
    "# Propriedades das esferas\n",
    "R = r_bohr  # Raio das esferas (raio de Bohr)\n",
    "m_sphere = m_hydrogen  # Massa das esferas (massa do núcleo de hidrogênio)\n",
    "\n",
    "# Condições iniciais\n",
    "initial_position = np.array([0, 0])  # Posição inicial das esferas\n",
    "initial_velocity = np.array([20 * R, 0])  # Velocidade inicial das esferas"
   ]
  },
  {
   "cell_type": "code",
   "execution_count": 45,
   "id": "34778773-29aa-46c3-8746-dd705ab99037",
   "metadata": {},
   "outputs": [],
   "source": [
    "def update_position_velocity(x, v, dt):\n",
    "    # Derivadas em t\n",
    "    k1 = v * dt\n",
    "    m1 = np.zeros_like(v)  # Não consideraremos acelerações aqui\n",
    "\n",
    "    # Derivadas em t + dt/2\n",
    "    k2 = (v + 0.5 * m1) * dt\n",
    "    m2 = np.zeros_like(v)  # Não consideraremos acelerações aqui\n",
    "\n",
    "    # Derivadas em t + dt\n",
    "    k3 = (v + m2) * dt\n",
    "    m3 = np.zeros_like(v)  # Não consideraremos acelerações aqui\n",
    "\n",
    "    # Atualização da posição e da velocidade usando o método de Simpson\n",
    "    new_x = x + k1 + 4 * k2 + k3\n",
    "    new_v = v + (m1 + 4 * m2 + m3) / 6\n",
    "\n",
    "    return new_x, new_v"
   ]
  },
  {
   "cell_type": "code",
   "execution_count": 46,
   "id": "06731049-d490-4bb2-8940-8a9469c0835e",
   "metadata": {},
   "outputs": [],
   "source": [
    "# Atualização da posição e da velocidade com colisões nas paredes\n",
    "def update_position_velocity_with_collisions(x, v, dt):\n",
    "    new_x, new_v = update_position_velocity(x, v, dt)\n",
    "\n",
    "    # Lógica para colisões com as paredes da caixa\n",
    "    for i in range(2):\n",
    "        for j in range(2):\n",
    "            if new_x[i, j] < -50 * R or new_x[i, j] > 50 * R:\n",
    "                new_v[i, j] = -new_v[i, j]\n",
    "\n",
    "    return new_x, new_v"
   ]
  },
  {
   "cell_type": "code",
   "execution_count": 47,
   "id": "4f5f3464-eb5a-4138-9507-fa9a3623400a",
   "metadata": {},
   "outputs": [
    {
     "data": {
      "image/png": "[encoded data removed]",
      "text/plain": [
       "<Figure size 576x720 with 2 Axes>"
      ]
     },
     "metadata": {
      "needs_background": "light"
     },
     "output_type": "display_data"
    }
   ],
   "source": [
    "# Parâmetros da simulação\n",
    "total_time = 5  # Tempo total da simulação em segundos\n",
    "dt = 0.05  # Intervalo de tempo em segundos\n",
    "num_steps = int(total_time / dt)\n",
    "\n",
    "# Inicialização de arrays para armazenar os resultados\n",
    "positions = np.zeros((num_steps, 2, 2))\n",
    "velocities = np.zeros((num_steps, 2, 2))\n",
    "\n",
    "# Condições iniciais\n",
    "positions[0] = np.array([initial_position, initial_position])\n",
    "velocities[0] = np.array([initial_velocity, -initial_velocity])\n",
    "\n",
    "# Simulação\n",
    "for step in range(1, num_steps):\n",
    "    positions[step], velocities[step] = update_position_velocity_with_collisions(\n",
    "        positions[step - 1], velocities[step - 1], dt\n",
    "    )\n",
    "\n",
    "    # Detecção e tratamento de colisões\n",
    "    distance = np.linalg.norm(positions[step, 0] - positions[step, 1])\n",
    "    if distance < 2 * R:  # Colisão ocorreu\n",
    "        # Calcular novas velocidades após a colisão (conservação do momento)\n",
    "        v1_f = velocities[step, 0] - 2 * m_sphere / (m_sphere + m_sphere) * np.dot(velocities[step, 0] - velocities[step, 1], positions[step, 0] - positions[step, 1]) / np.linalg.norm(positions[step, 0] - positions[step, 1]) ** 2 * (positions[step, 0] - positions[step, 1])\n",
    "        v2_f = velocities[step, 1] - 2 * m_sphere / (m_sphere + m_sphere) * np.dot(velocities[step, 1] - velocities[step, 0], positions[step, 1] - positions[step, 0]) / np.linalg.norm(positions[step, 1] - positions[step, 0]) ** 2 * (positions[step, 1] - positions[step, 0])\n",
    "\n",
    "        # Atualizar as velocidades após a colisão\n",
    "        velocities[step, 0] = v1_f\n",
    "        velocities[step, 1] = v2_f\n",
    "\n",
    "# Visualização dos gráficos da posição e da velocidade\n",
    "fig, (ax1, ax2) = plt.subplots(2, 1, figsize=(8, 10))\n",
    "\n",
    "ax1.scatter(positions[:, 0, 0], positions[:, 0, 1], label=\"Esfera 1\")\n",
    "ax1.scatter(positions[:, 1, 0], positions[:, 1, 1], label=\"Esfera 2\")\n",
    "ax1.set_xlabel(\"Posição x (m)\")\n",
    "ax1.set_ylabel(\"Posição y (m)\")\n",
    "ax1.legend()\n",
    "\n",
    "ax2.scatter(np.arange(num_steps) * dt, velocities[:, 0, 0], label=\"Esfera 1\")\n",
    "ax2.scatter(np.arange(num_steps) * dt, velocities[:, 1, 0], label=\"Esfera 2\")\n",
    "ax2.set_xlabel(\"Tempo (s)\")\n",
    "ax2.set_ylabel(\"Velocidade x (m/s)\")\n",
    "ax2.legend()\n",
    "\n",
    "plt.tight_layout()\n",
    "plt.show()"
   ]
  },
  {
   "cell_type": "code",
   "execution_count": 48,
   "id": "d0156189-43fe-423d-af3c-0a6f30bc5bf0",
   "metadata": {},
   "outputs": [
    {
     "name": "stderr",
     "output_type": "stream",
     "text": [
      "MovieWriter imagemagick unavailable; using Pillow instead.\n"
     ]
    },
    {
     "name": "stdout",
     "output_type": "stream",
     "text": [
      "GIF criado com sucesso: collision_simulation.gif\n"
     ]
    }
   ],
   "source": [
    "# Função para criar a animação\n",
    "def animate_positions(i):\n",
    "    ax.clear()\n",
    "    ax.scatter(positions[i, 0, 0], positions[i, 0, 1], c='blue', label=\"Esfera 1\")\n",
    "    ax.scatter(positions[i, 1, 0], positions[i, 1, 1], c='red', label=\"Esfera 2\")\n",
    "    ax.set_xlim(-50 * R, 50 * R)\n",
    "    ax.set_ylim(-50 * R, 50 * R)\n",
    "    ax.set_xlabel(\"Posição x (m)\")\n",
    "    ax.set_ylabel(\"Posição y (m)\")\n",
    "    ax.set_title(f\"Tempo = {i * dt:.2f} segundos\")\n",
    "    ax.legend()\n",
    "\n",
    "# Criação da animação em formato de GIF\n",
    "fig, ax = plt.subplots(figsize=(8, 8))\n",
    "ani = FuncAnimation(fig, animate_positions, frames=num_steps, interval=100)\n",
    "plt.close()\n",
    "\n",
    "# Salvando o GIF\n",
    "gif_filename = \"collision_simulation.gif\"\n",
    "ani.save(gif_filename, writer=\"imagemagick\")\n",
    "print(\"GIF criado com sucesso:\", gif_filename)"
   ]
  },
  {
   "cell_type": "code",
   "execution_count": null,
   "id": "410b171d-7351-4260-a834-202a28212c23",
   "metadata": {},
   "outputs": [],
   "source": []
  }
 ],
 "metadata": {
  "kernelspec": {
   "display_name": "ilumpy",
   "language": "python",
   "name": "ilumpy"
  },
  "language_info": {
   "codemirror_mode": {
    "name": "ipython",
    "version": 3
   },
   "file_extension": ".py",
   "mimetype": "text/x-python",
   "name": "python",
   "nbconvert_exporter": "python",
   "pygments_lexer": "ipython3",
   "version": "3.9.7"
  }
 },
 "nbformat": 4,
 "nbformat_minor": 5
}
