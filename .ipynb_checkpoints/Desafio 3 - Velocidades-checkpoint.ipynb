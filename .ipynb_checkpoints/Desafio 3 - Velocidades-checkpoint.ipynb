version https://git-lfs.github.com/spec/v1
oid sha256:6bc75fbb01703beca348928c1029a027b35a66d8f994bf87461d1f7cf9b02663
size 1687974
