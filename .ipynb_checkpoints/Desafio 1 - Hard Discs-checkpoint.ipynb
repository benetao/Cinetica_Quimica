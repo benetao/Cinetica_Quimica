version https://git-lfs.github.com/spec/v1
oid sha256:edbcb8c18c0cabf35b7b709f948e2550d74b406881204a5cd0f9de26b2c6374d
size 220825
