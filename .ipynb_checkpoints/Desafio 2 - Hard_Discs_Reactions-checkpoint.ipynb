version https://git-lfs.github.com/spec/v1
oid sha256:174de5b13ce5ae37d26523f977b3be9653b134226e9cccfbbdd97fdbec6f40eb
size 1029011
