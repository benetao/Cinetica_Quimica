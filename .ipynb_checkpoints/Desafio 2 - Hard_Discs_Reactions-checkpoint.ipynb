version https://git-lfs.github.com/spec/v1
oid sha256:14135e2d5a1e37db5b9bfbef844feb9caf2ba4cb7c1dd1e244033428bbae4927
size 705916
