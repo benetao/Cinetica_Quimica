version https://git-lfs.github.com/spec/v1
oid sha256:f84789a1658e0c2ce0ef4f2e7478b4a94cfc9786e7d4c2916ae596f42054c7dc
size 1054729
